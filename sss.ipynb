{
 "cells": [
  {
   "cell_type": "code",
   "execution_count": null,
   "id": "67d11d77-f1ed-4bf1-bf8a-5b8ac550b4e2",
   "metadata": {},
   "outputs": [
    {
     "name": "stdin",
     "output_type": "stream",
     "text": [
      "Enter population density (people per square km):  5657\n"
     ]
    }
   ],
   "source": [
    "import pandas as pd\n",
    "import numpy as np\n",
    "from sklearn.ensemble import RandomForestRegressor\n",
    "\n",
    "# Generate synthetic data\n",
    "def create_synthetic_data():\n",
    "    np.random.seed(42)\n",
    "    data = {\n",
    "        'Population_Density': np.random.randint(500, 5000, 100),\n",
    "        'Water_Access': np.random.randint(50, 100, 100),\n",
    "        'Sanitation_Method': np.random.choice(['Composting', 'Sewer System', 'Waterless Toilet', 'Pit Latrine'], 100),\n",
    "        'Health_Index': np.random.randint(50, 100, 100),\n",
    "        'Cost': np.random.randint(100, 5000, 100),\n",
    "        'Impact_Score': np.random.randint(50, 100, 100)\n",
    "    }\n",
    "    df = pd.DataFrame(data)\n",
    "    return df\n",
    "\n",
    "# Prepare the data (one-hot encoding for categorical features)\n",
    "def preprocess_data(df):\n",
    "    df = pd.get_dummies(df, columns=['Sanitation_Method'], drop_first=True)\n",
    "    X = df.drop('Impact_Score', axis=1)\n",
    "    y = df['Impact_Score']\n",
    "    return X, y\n",
    "\n",
    "# Train the model\n",
    "def train_model(X, y):\n",
    "    model = RandomForestRegressor(n_estimators=100, random_state=42)\n",
    "    model.fit(X, y)\n",
    "    return model\n",
    "\n",
    "# Function to predict impact score for new user input\n",
    "def predict_impact(model, user_input, X_columns):\n",
    "    # Ensure user_input is in the same format as training data\n",
    "    user_df = pd.DataFrame([user_input])\n",
    "    user_df = pd.get_dummies(user_df, columns=['Sanitation_Method'], drop_first=True)\n",
    "    \n",
    "    # Ensure all necessary columns are present (handle any missing columns)\n",
    "    for col in X_columns:\n",
    "        if col not in user_df.columns:\n",
    "            user_df[col] = 0\n",
    "    \n",
    "    prediction = model.predict(user_df)\n",
    "    return prediction[0]\n",
    "\n",
    "# Generate synthetic data and train the model\n",
    "df = create_synthetic_data()\n",
    "X, y = preprocess_data(df)\n",
    "model = train_model(X, y)\n",
    "\n",
    "# Function to take user input\n",
    "def get_user_input():\n",
    "    population_density = int(input(\"Enter population density (people per square km): \"))\n",
    "    water_access = int(input(\"Enter water access (% of population): \"))\n",
    "    sanitation_method = input(\"Enter sanitation method (Composting, Sewer System, Waterless Toilet, Pit Latrine): \")\n",
    "    health_index = int(input(\"Enter health index (0-100): \"))\n",
    "    cost = int(input(\"Enter cost of solution (USD): \"))\n",
    "    \n",
    "    user_input = {\n",
    "        'Population_Density': population_density,\n",
    "        'Water_Access': water_access,\n",
    "        'Sanitation_Method': sanitation_method,\n",
    "        'Health_Index': health_index,\n",
    "        'Cost': cost\n",
    "    }\n",
    "    \n",
    "    return user_input\n",
    "\n",
    "# Take user input and predict impact score\n",
    "user_input = get_user_input()\n",
    "impact_score = predict_impact(model, user_input, X.columns)\n",
    "print(f\"The predicted sustainability impact score is: {impact_score:.2f}\")"
   ]
  },
  {
   "cell_type": "code",
   "execution_count": null,
   "id": "f5ee9dd5-754b-4bca-adb1-112e352261bc",
   "metadata": {},
   "outputs": [],
   "source": []
  }
 ],
 "metadata": {
  "kernelspec": {
   "display_name": "Python 3 (ipykernel)",
   "language": "python",
   "name": "python3"
  },
  "language_info": {
   "codemirror_mode": {
    "name": "ipython",
    "version": 3
   },
   "file_extension": ".py",
   "mimetype": "text/x-python",
   "name": "python",
   "nbconvert_exporter": "python",
   "pygments_lexer": "ipython3",
   "version": "3.11.7"
  }
 },
 "nbformat": 4,
 "nbformat_minor": 5
}
